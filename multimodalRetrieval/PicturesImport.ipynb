{
 "cells": [
  {
   "cell_type": "markdown",
   "id": "0",
   "metadata": {},
   "source": [
    "## PicturesImport - 批量导入图片\n",
    "### 数据源介绍\n",
    "    数据源 102flowers: https://thor.robots.ox.ac.uk/flowers/102/102flowers.tgz (329M)\n",
    "    下载测试数据，解压后，在data目录下"
   ]
  },
  {
   "cell_type": "markdown",
   "id": "1",
   "metadata": {},
   "source": [
    "### 数据入库\n",
    "  首先配置待导入的数据目录\n",
    "\n",
    "  目录中所有图片数据经过 lindorm ai 引擎进行向量化，将向量写入lindorm"
   ]
  },
  {
   "cell_type": "code",
   "execution_count": null,
   "id": "2",
   "metadata": {},
   "outputs": [],
   "source": [
    "import ipywidgets as widgets\n",
    "\n",
    "# 创建输入框和按钮\n",
    "dir_input = widgets.Text(\n",
    "    value='data/jpg',\n",
    "    placeholder='data/jpg',\n",
    "    description='图片目录:',\n",
    "    disabled=False,\n",
    "    layout=widgets.Layout(width='auto')\n",
    ")\n",
    "\n",
    "display(dir_input)"
   ]
  },
  {
   "cell_type": "code",
   "execution_count": null,
   "id": "3",
   "metadata": {},
   "outputs": [],
   "source": [
    "import os\n",
    "# -*- coding: utf-8 -*-\n",
    "\n",
    "import concurrent\n",
    "from tqdm import tqdm\n",
    "\n",
    "from concurrent.futures import ThreadPoolExecutor\n",
    "from src.lindorm import Lindorm\n",
    "\n",
    "lindorm = Lindorm()\n",
    "\n",
    "def handle_picture(file_path: str):\n",
    "    # 读取本地图片内容\n",
    "    with open(file_path, 'rb') as f:\n",
    "        content = f.read()\n",
    "        # print(f\"读取本地图片内容 {file_path}, size {len(content)}\")\n",
    "        code, embedding = lindorm.picture_embedding(content)\n",
    "        if code != 0:\n",
    "            print(f\"图文向量化失败 {file_path}, error {embedding}\")\n",
    "            raise Exception(f\"图文向量化失败 {file_path}, error {embedding}\")\n",
    "        return lindorm.write_doc(file_path, embedding)\n",
    "\n",
    "\n",
    "def import_all_data(dir: str):\n",
    "    # 遍历目录下所有图片\n",
    "    print('导入数据目录:', dir)\n",
    "    file_paths = [os.path.join(dir, f) for f in os.listdir(dir) if os.path.isfile(os.path.join(dir, f)) and f.endswith('.jpg')]\n",
    "    \n",
    "    with ThreadPoolExecutor(max_workers=8) as executor:\n",
    "        # 创建一个任务列表\n",
    "        future_to_record = {executor.submit(handle_picture, key): key for key in file_paths}\n",
    "        \n",
    "        # 使用 tqdm 显示进度条\n",
    "        for future in tqdm(concurrent.futures.as_completed(future_to_record), total=len(file_paths), desc=\"Importing Data\"):\n",
    "            result = future.result()\n",
    "    print(\"向量化后的数据入库完成\")\n",
    "\n",
    "\n",
    "if __name__ == '__main__':\n",
    "    print(\"start\")\n",
    "    lindorm = Lindorm()\n",
    "    \n",
    "    if lindorm.get_index() is not None:\n",
    "        print(\"索引已存在，删除\")\n",
    "        lindorm.drop_index()\n",
    "    lindorm.create_search_index()\n",
    "    print(\"索引创建完成\")\n",
    "    import_all_data(dir_input.value)\n"
   ]
  },
  {
   "cell_type": "code",
   "execution_count": null,
   "id": "4",
   "metadata": {},
   "outputs": [],
   "source": []
  }
 ],
 "metadata": {
  "kernelspec": {
   "display_name": "Python 3 (ipykernel)",
   "language": "python",
   "name": "python3"
  },
  "language_info": {
   "codemirror_mode": {
    "name": "ipython",
    "version": 3
   },
   "file_extension": ".py",
   "mimetype": "text/x-python",
   "name": "python",
   "nbconvert_exporter": "python",
   "pygments_lexer": "ipython3",
   "version": "3.11.11"
  }
 },
 "nbformat": 4,
 "nbformat_minor": 5
}
