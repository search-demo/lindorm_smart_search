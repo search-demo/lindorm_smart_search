{
 "cells": [
  {
   "cell_type": "markdown",
   "id": "f975a69623577681",
   "metadata": {},
   "source": [
    "## 图片自动去重导入\n",
    "\n",
    "通过以图搜图，提供图片自动去重功能，相似度 >= 阈值的图片不导入，并返回相似照片\n",
    "\n",
    "相似度[0, 1], 越大越相似， 1 表示完全相同"
   ]
  },
  {
   "cell_type": "code",
   "execution_count": 1,
   "id": "bc96ecf33325cb6e",
   "metadata": {},
   "outputs": [
    {
     "data": {
      "application/vnd.jupyter.widget-view+json": {
       "model_id": "c12bcc0af478442ea354f151bec3fa28",
       "version_major": 2,
       "version_minor": 0
      },
      "text/plain": [
       "Text(value='data/jpg', description='图片目录:', layout=Layout(width='auto'), placeholder='data/jpg')"
      ]
     },
     "metadata": {},
     "output_type": "display_data"
    }
   ],
   "source": [
    "import ipywidgets as widgets\n",
    "\n",
    "# 创建输入框和按钮\n",
    "dir_input = widgets.Text(\n",
    "    value='data/jpg',\n",
    "    placeholder='data/jpg',\n",
    "    description='图片目录:',\n",
    "    disabled=False,\n",
    "    layout=widgets.Layout(width='auto')\n",
    ")\n",
    "\n",
    "display(dir_input)"
   ]
  },
  {
   "cell_type": "code",
   "execution_count": 2,
   "id": "16dac954683ae953",
   "metadata": {
    "ExecuteTime": {
     "end_time": "2025-01-17T02:26:18.524373Z",
     "start_time": "2025-01-17T02:26:16.962156Z"
    }
   },
   "outputs": [
    {
     "data": {
      "application/vnd.jupyter.widget-view+json": {
       "model_id": "58749b317f4e4244aa465a2f3298482d",
       "version_major": 2,
       "version_minor": 0
      },
      "text/plain": [
       "FloatText(value=0.95, description='相似度阈值:', step=0.02)"
      ]
     },
     "metadata": {},
     "output_type": "display_data"
    },
    {
     "data": {
      "application/vnd.jupyter.widget-view+json": {
       "model_id": "43205c5e3c6444eb94eac9d068a74eec",
       "version_major": 2,
       "version_minor": 0
      },
      "text/plain": [
       "Text(value='', description='URL:', placeholder='输入图片 URL')"
      ]
     },
     "metadata": {},
     "output_type": "display_data"
    },
    {
     "data": {
      "application/vnd.jupyter.widget-view+json": {
       "model_id": "62f8f5d53bcb4abf8a91e02546cf7269",
       "version_major": 2,
       "version_minor": 0
      },
      "text/plain": [
       "FileUpload(value=(), accept='image/*', description='选择文件')"
      ]
     },
     "metadata": {},
     "output_type": "display_data"
    },
    {
     "data": {
      "application/vnd.jupyter.widget-view+json": {
       "model_id": "7b484606bc224e6c9240b85fa3f23009",
       "version_major": 2,
       "version_minor": 0
      },
      "text/plain": [
       "Button(description='图片去重导入', icon='check', style=ButtonStyle(), tooltip='点击显示图片')"
      ]
     },
     "metadata": {},
     "output_type": "display_data"
    },
    {
     "data": {
      "application/vnd.jupyter.widget-view+json": {
       "model_id": "a346c510d1884751ac66a88904ed668d",
       "version_major": 2,
       "version_minor": 0
      },
      "text/plain": [
       "Output()"
      ]
     },
     "metadata": {},
     "output_type": "display_data"
    }
   ],
   "source": [
    "import os\n",
    "import requests\n",
    "import uuid\n",
    "import io\n",
    "import ipywidgets as widgets\n",
    "import matplotlib.pyplot as plt\n",
    "from PIL import Image\n",
    "from IPython.display import display, clear_output\n",
    "from src.lindorm import Lindorm\n",
    "\n",
    "lindorm = Lindorm()\n",
    "\n",
    "# 创建一个浮点数输入框，并设定默认值为 0.95\n",
    "float_input = widgets.FloatText(\n",
    "    value=0.95,\n",
    "    placeholder=0.95,\n",
    "    min=0.0,     # 最小值\n",
    "    max=1.0,     # 最大值\n",
    "    step=0.02,    # 步长\n",
    "    description='相似度阈值:',\n",
    "    disabled=False\n",
    ")\n",
    "\n",
    "# 创建输入框和按钮\n",
    "url_input = widgets.Text(\n",
    "    value='',\n",
    "    placeholder='输入图片 URL',\n",
    "    description='URL:',\n",
    "    disabled=False\n",
    ")\n",
    "\n",
    "file_input = widgets.FileUpload(\n",
    "    accept='image/*',\n",
    "    description='选择文件',\n",
    "    multiple=False  # 只允许选择一张图片\n",
    ")\n",
    "\n",
    "button = widgets.Button(\n",
    "    description='图片去重导入',\n",
    "    disabled=False,\n",
    "    button_style='',\n",
    "    tooltip='点击显示图片',\n",
    "    icon='check'\n",
    ")\n",
    "\n",
    "output = widgets.Output()\n",
    "\n",
    "def picture_insert(image_data, image_path):\n",
    "    # 图片写入本地\n",
    "    with open(image_path, 'wb') as f:\n",
    "        f.write(image_data)\n",
    "        \n",
    "def http_download(url: str):\n",
    "        headers = {\n",
    "            \"User-Agent\": \"Mozilla/5.0 (Windows NT 10.0; Win64; x64) AppleWebKit/537.36 (KHTML, like Gecko) Chrome/87.0.4280.88 Safari/537.36\"\n",
    "        }\n",
    "        try:\n",
    "            response = requests.get(url, timeout=20, headers=headers)\n",
    "            # 确保请求成功\n",
    "            response.raise_for_status()\n",
    "            image = response.content\n",
    "            return 0, image\n",
    "        except requests.exceptions.Timeout:\n",
    "            print(url, \"download timeout\")\n",
    "            return -1, \"download timeout\"\n",
    "        except requests.exceptions.RequestException as e:\n",
    "            print(url, \"download failed\", e)\n",
    "            return -1, \"download failed\"\n",
    "\n",
    "# 写入新图片\n",
    "def import_new_image(image_data, image_path, picture_embedding):\n",
    "    # 写入 本地库\n",
    "    print(f\"导入图片到目录中: {image_path}, 导入结果: {picture_insert(image_data, image_path)}\")\n",
    "    # 写入 lindorm\n",
    "    doc_id = image_path\n",
    "    print(f\"导入图片向量到 lindorm 实例中 {doc_id}, 导入结果: {lindorm.write_doc(doc_id, picture_embedding)}\")\n",
    "\n",
    "# 定义按钮点击事件处理函数\n",
    "def on_button_clicked(b):\n",
    "    with output:\n",
    "        clear_output()  # 清除上次输出\n",
    "        if url_input.value:\n",
    "            code, image_data = http_download(url_input.value)\n",
    "            url_input.value = ''\n",
    "            img = Image.open(io.BytesIO(image_data))\n",
    "            image_type = img.format.lower()\n",
    "        elif file_input.value:\n",
    "            # 获取上载图像的数据\n",
    "            uploaded_file = next(iter(file_input.value))\n",
    "            image_data = bytes(uploaded_file['content'])\n",
    "            image_type = uploaded_file['type'].split('/')[-1]\n",
    "        else:\n",
    "            print(\"请先输入图片 URL 或选择本地图片\")\n",
    "            return \n",
    "        \n",
    "        if image_data is None:\n",
    "            print(\"图片下载失败\")\n",
    "            return\n",
    "        \n",
    "        # 显示图片\n",
    "        img = Image.open(io.BytesIO(image_data))\n",
    "        plt.imshow(img)\n",
    "        plt.axis('off')\n",
    "        plt.show()\n",
    "        # 计算图片向量\n",
    "        code, picture_embedding = lindorm.picture_embedding(image_data)\n",
    "        hits = lindorm.knn_search(picture_embedding)\n",
    "        \n",
    "        # 显示 float_input\n",
    "        print('图片相似度阈值:', float_input.value)\n",
    "        print('图片类型:', image_type)\n",
    "        \n",
    "        if hits is None or len(hits) == 0:\n",
    "            print(\"图片搜索失败\")\n",
    "            return\n",
    "            \n",
    "        print('search, count', len(hits))\n",
    "        for hit in hits:\n",
    "            print(hit.get('_id'), hit.get('_score'))\n",
    "            \n",
    "        # 创建一个 3x3 的子图\n",
    "        fig, axes = plt.subplots(3, 3, figsize=(9, 9))\n",
    "        \n",
    "        # 遍历图片 URL\n",
    "        for ax, hit in zip(axes.flatten(), hits):\n",
    "            url = hit.get('_id')\n",
    "            # 在子图中显示图片\n",
    "            img = Image.open(url)\n",
    "            # print(url, img)\n",
    "            ax.imshow(img)\n",
    "            ax.axis('off')  # 隐藏坐标轴\n",
    "\n",
    "        plt.tight_layout()  # 调整布局\n",
    "        plt.show()\n",
    "        \n",
    "        if hits[0].get('_score') >= float_input.value:\n",
    "            print(f\"库中存在图片相似度 >= {float_input.value}，不导入\")\n",
    "        else:\n",
    "            print(f\"库中不存在图片相似度 >= {float_input.value}，导入这张图片\")\n",
    "            dir = dir_input.value\n",
    "            if not os.path.exists(dir):\n",
    "                os.makedirs(dir)\n",
    "            pic_name = str(uuid.uuid4()) + \".\" + image_type\n",
    "            pic_path = os.path.join(dir, f\"{os.path.basename(pic_name)}\")\n",
    "            import_new_image(image_data, pic_path, picture_embedding)\n",
    "        \n",
    "# 绑定事件处理函数到按钮\n",
    "button.on_click(on_button_clicked)\n",
    "\n",
    "# 显示组件\n",
    "display(float_input)\n",
    "display(url_input)\n",
    "display(file_input)\n",
    "\n",
    "display(button)\n",
    "display(output)"
   ]
  },
  {
   "cell_type": "code",
   "execution_count": null,
   "id": "c4977e9397f9de77",
   "metadata": {},
   "outputs": [],
   "source": []
  }
 ],
 "metadata": {
  "kernelspec": {
   "display_name": "Python 3 (ipykernel)",
   "language": "python",
   "name": "python3"
  },
  "language_info": {
   "codemirror_mode": {
    "name": "ipython",
    "version": 3
   },
   "file_extension": ".py",
   "mimetype": "text/x-python",
   "name": "python",
   "nbconvert_exporter": "python",
   "pygments_lexer": "ipython3",
   "version": "3.11.11"
  }
 },
 "nbformat": 4,
 "nbformat_minor": 5
}
